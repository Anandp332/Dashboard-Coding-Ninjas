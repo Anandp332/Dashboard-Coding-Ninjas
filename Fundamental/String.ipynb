{
 "cells": [
  {
   "cell_type": "markdown",
   "metadata": {},
   "source": [
    "# Two substrings"
   ]
  },
  {
   "cell_type": "raw",
   "metadata": {},
   "source": [
    "Sample Input 1 :\n",
    "ABA\n",
    "Sample Output 1 :\n",
    "no\n",
    "Sample Input 2 :\n",
    "BACFAB\n",
    "Sample Output 2 :\n",
    "yes\n",
    "Sample Input 3 :\n",
    "AXBYBXA\n",
    "Sample Output 3 :\n",
    "no"
   ]
  },
  {
   "cell_type": "code",
   "execution_count": 13,
   "metadata": {},
   "outputs": [
    {
     "name": "stdout",
     "output_type": "stream",
     "text": [
      "ABABA\n",
      "exe1 1 1\n",
      "1\n",
      "exe2 3 1\n",
      "yes\n"
     ]
    }
   ],
   "source": [
    "def substr(n):\n",
    "    p1,p2=0,0\n",
    "    p=0\n",
    "    q=0\n",
    "    for i in range(0,len(n),1):\n",
    "        if(n[i-1:i+1] == \"AB\" and p==0):\n",
    "           # print(\"exe1\",i,\"1\")\n",
    "            p+=1\n",
    "            #print(p)\n",
    "            p1=1\n",
    "            i+=1\n",
    "        if(n[i:i+2]==\"BA\" and q==0 ):\n",
    "            #print(\"exe2\",i,\"1\")\n",
    "            q+=1\n",
    "            p2=1\n",
    "            i+=1\n",
    "    if(p1==1 and p2==1):\n",
    "        return 1\n",
    "    else:\n",
    "        return 0\n",
    "            \n",
    "            \n",
    "n=input()\n",
    "if(substr(n)):\n",
    "    print(\"yes\")\n",
    "else:\n",
    "    print(\"no\")"
   ]
  },
  {
   "cell_type": "markdown",
   "metadata": {},
   "source": [
    "# Amazing Strings\n"
   ]
  },
  {
   "cell_type": "raw",
   "metadata": {},
   "source": [
    "Sample Input 1 :\n",
    "SANTACLAUS\n",
    "DEDMOROZ\n",
    "SANTAMOROZDEDCLAUS\n",
    "Sample Output 1 :\n",
    "YES\n",
    "Sample Input 2 :\n",
    "PAPAINOEL\n",
    "JOULUPUKKI\n",
    "JOULNAPAOILELUPUKKI\n",
    "Sample Output 2 :\n",
    "NO\n",
    "Sample Input 3 :\n",
    "BABBONATALE\n",
    "FATHERCHRISTMAS\n",
    "BABCHRISTMASBONATALLEFATHER\n",
    "Sample Output 3 :\n",
    "NO"
   ]
  },
  {
   "cell_type": "code",
   "execution_count": 27,
   "metadata": {},
   "outputs": [
    {
     "name": "stdout",
     "output_type": "stream",
     "text": [
      "SANTACLAUS\n",
      "DEDMOROZ\n",
      "SANTAMOROZDEDCLAUS\n",
      "YES\n"
     ]
    }
   ],
   "source": [
    "def convert(str1):\n",
    "    f=[i for i in str1]\n",
    "    return f\n",
    "str1 = input()\n",
    "str2 = input()\n",
    "str3 = input()\n",
    "str2 = convert(str2)\n",
    "str1 = convert(str1)\n",
    "str2 = str1 + str2\n",
    "str3 = convert(str3)\n",
    "str2.sort()\n",
    "str3.sort()\n",
    "if(str2 == str3):\n",
    "    print(\"YES\")\n",
    "else:\n",
    "    print(\"NO\")"
   ]
  },
  {
   "cell_type": "code",
   "execution_count": 26,
   "metadata": {},
   "outputs": [
    {
     "name": "stdout",
     "output_type": "stream",
     "text": [
      "BABBONATALE\n",
      "FATHERCHRISTMAS\n",
      "BABCHRISTMASBONATALLEFATHER\n",
      "NO\n"
     ]
    }
   ],
   "source": [
    "\n",
    "#print(str3)"
   ]
  },
  {
   "cell_type": "code",
   "execution_count": 23,
   "metadata": {},
   "outputs": [
    {
     "name": "stdout",
     "output_type": "stream",
     "text": [
      "['a', 'b']\n"
     ]
    }
   ],
   "source": [
    "a=[\"b\",\"a\"]\n",
    "a.sort()\n",
    "print(a)"
   ]
  },
  {
   "cell_type": "code",
   "execution_count": null,
   "metadata": {},
   "outputs": [],
   "source": []
  }
 ],
 "metadata": {
  "kernelspec": {
   "display_name": "Python 3",
   "language": "python",
   "name": "python3"
  },
  "language_info": {
   "codemirror_mode": {
    "name": "ipython",
    "version": 3
   },
   "file_extension": ".py",
   "mimetype": "text/x-python",
   "name": "python",
   "nbconvert_exporter": "python",
   "pygments_lexer": "ipython3",
   "version": "3.8.3"
  }
 },
 "nbformat": 4,
 "nbformat_minor": 4
}
