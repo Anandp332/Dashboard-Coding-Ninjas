{
 "cells": [
  {
   "cell_type": "markdown",
   "metadata": {},
   "source": [
    "# Two substrings"
   ]
  },
  {
   "cell_type": "raw",
   "metadata": {},
   "source": [
    "Sample Input 1 :\n",
    "ABA\n",
    "Sample Output 1 :\n",
    "no\n",
    "Sample Input 2 :\n",
    "BACFAB\n",
    "Sample Output 2 :\n",
    "yes\n",
    "Sample Input 3 :\n",
    "AXBYBXA\n",
    "Sample Output 3 :\n",
    "no"
   ]
  },
  {
   "cell_type": "code",
   "execution_count": 13,
   "metadata": {},
   "outputs": [
    {
     "name": "stdout",
     "output_type": "stream",
     "text": [
      "ABABA\n",
      "exe1 1 1\n",
      "1\n",
      "exe2 3 1\n",
      "yes\n"
     ]
    }
   ],
   "source": [
    "def substr(n):\n",
    "    p1,p2=0,0\n",
    "    p=0\n",
    "    q=0\n",
    "    for i in range(0,len(n),1):\n",
    "        if(n[i-1:i+1] == \"AB\" and p==0):\n",
    "           # print(\"exe1\",i,\"1\")\n",
    "            p+=1\n",
    "            #print(p)\n",
    "            p1=1\n",
    "            i+=1\n",
    "        if(n[i:i+2]==\"BA\" and q==0 ):\n",
    "            #print(\"exe2\",i,\"1\")\n",
    "            q+=1\n",
    "            p2=1\n",
    "            i+=1\n",
    "    if(p1==1 and p2==1):\n",
    "        return 1\n",
    "    else:\n",
    "        return 0\n",
    "            \n",
    "            \n",
    "n=input()\n",
    "if(substr(n)):\n",
    "    print(\"yes\")\n",
    "else:\n",
    "    print(\"no\")"
   ]
  },
  {
   "cell_type": "markdown",
   "metadata": {},
   "source": [
    "# Amazing Strings\n"
   ]
  },
  {
   "cell_type": "raw",
   "metadata": {},
   "source": [
    "Sample Input 1 :\n",
    "SANTACLAUS\n",
    "DEDMOROZ\n",
    "SANTAMOROZDEDCLAUS\n",
    "Sample Output 1 :\n",
    "YES\n",
    "Sample Input 2 :\n",
    "PAPAINOEL\n",
    "JOULUPUKKI\n",
    "JOULNAPAOILELUPUKKI\n",
    "Sample Output 2 :\n",
    "NO\n",
    "Sample Input 3 :\n",
    "BABBONATALE\n",
    "FATHERCHRISTMAS\n",
    "BABCHRISTMASBONATALLEFATHER\n",
    "Sample Output 3 :\n",
    "NO"
   ]
  },
  {
   "cell_type": "code",
   "execution_count": 27,
   "metadata": {},
   "outputs": [
    {
     "name": "stdout",
     "output_type": "stream",
     "text": [
      "SANTACLAUS\n",
      "DEDMOROZ\n",
      "SANTAMOROZDEDCLAUS\n",
      "YES\n"
     ]
    }
   ],
   "source": [
    "def convert(str1):\n",
    "    f=[i for i in str1]\n",
    "    return f\n",
    "str1 = input()\n",
    "str2 = input()\n",
    "str3 = input()\n",
    "str2 = convert(str2)\n",
    "str1 = convert(str1)\n",
    "str2 = str1 + str2\n",
    "str3 = convert(str3)\n",
    "str2.sort()\n",
    "str3.sort()\n",
    "if(str2 == str3):\n",
    "    print(\"YES\")\n",
    "else:\n",
    "    print(\"NO\")"
   ]
  },
  {
   "cell_type": "markdown",
   "metadata": {},
   "source": [
    "# Pangram"
   ]
  },
  {
   "cell_type": "raw",
   "metadata": {},
   "source": [
    "Sample Input 1 :\n",
    "12\n",
    "toosmallword\n",
    "Sample Output 1 :\n",
    "NO\n",
    "Sample Input 2 :\n",
    "35\n",
    "TheQuickBrownFoxJumpsOverTheLazyDog\n",
    "Sample Output 2 :\n",
    "YES\n"
   ]
  },
  {
   "cell_type": "code",
   "execution_count": 20,
   "metadata": {},
   "outputs": [
    {
     "name": "stdout",
     "output_type": "stream",
     "text": [
      "35\n",
      "TheQuickBrownFoxJumpsOverTheLazyDog\n",
      "YES\n"
     ]
    }
   ],
   "source": [
    "def f1(str1,l):\n",
    "    str2=[]\n",
    "    for i in range(0,l):\n",
    "        if(ord(str1[i])>=97 and ord(str1[i])<=122):\n",
    "            str2.append(chr(ord(str1[i])-32))\n",
    "        else:\n",
    "            str2.append(str1[i])\n",
    "    \n",
    "    str2.sort()\n",
    "   \n",
    "    st=[]\n",
    "    temp=str2[0]\n",
    "    for i in range(1,l):\n",
    "        if(temp == str2[i]):\n",
    "            pass\n",
    "        else:\n",
    "            st.append(temp)\n",
    "            temp=str2[i]\n",
    "    st.append(temp)\n",
    "    return st\n",
    "def check(str1):\n",
    "    test=65\n",
    "    cnt=0\n",
    "    if(len(str1)<26):\n",
    "        return 0;\n",
    "    for i in range(0,26):\n",
    "        if(test == ord(str1[i])):\n",
    "            test+=1\n",
    "            cnt+=1\n",
    "    if(cnt==26):\n",
    "        return 1\n",
    "    else:\n",
    "        return 0\n",
    "            \n",
    "        \n",
    "l = int(input())\n",
    "str1 = input()\n",
    "str1 = [i for i in str1]\n",
    "str1=f1(str1,l)\n",
    "\n",
    "if(check(str1)):\n",
    "    print(\"YES\")\n",
    "else:\n",
    "    print(\"NO\")\n"
   ]
  },
  {
   "cell_type": "markdown",
   "metadata": {},
   "source": [
    "# Remove Duplicates"
   ]
  },
  {
   "cell_type": "raw",
   "metadata": {},
   "source": [
    "Sample Input 1 :\n",
    "aabccba\n",
    "Sample Output 1 :\n",
    "abcba\n",
    "Sample Input 2 :\n",
    "xxxyyyzwwzzz\n",
    "Sample Output 2 :\n",
    "xyzwz"
   ]
  },
  {
   "cell_type": "code",
   "execution_count": 23,
   "metadata": {},
   "outputs": [
    {
     "name": "stdout",
     "output_type": "stream",
     "text": [
      "ammbbd\n",
      "abdm"
     ]
    }
   ],
   "source": [
    "def duplicate(str2):\n",
    "    st=[]\n",
    "    temp=str2[0]\n",
    "    for i in range(1,len(str2)):\n",
    "        if(temp == str2[i]):\n",
    "            pass\n",
    "        else:\n",
    "            st.append(temp)\n",
    "            temp=str2[i]\n",
    "    st.append(temp)\n",
    "    return st\n",
    "    \n",
    "n = input()\n",
    "n = [i for i in n]\n",
    "n.sort()\n",
    "n = duplicate(n)\n",
    "for i in range(0,len(n)):\n",
    "    print(n[i],end=\"\")"
   ]
  },
  {
   "cell_type": "code",
   "execution_count": null,
   "metadata": {},
   "outputs": [],
   "source": []
  }
 ],
 "metadata": {
  "kernelspec": {
   "display_name": "Python 3",
   "language": "python",
   "name": "python3"
  },
  "language_info": {
   "codemirror_mode": {
    "name": "ipython",
    "version": 3
   },
   "file_extension": ".py",
   "mimetype": "text/x-python",
   "name": "python",
   "nbconvert_exporter": "python",
   "pygments_lexer": "ipython3",
   "version": "3.8.3"
  }
 },
 "nbformat": 4,
 "nbformat_minor": 4
}
