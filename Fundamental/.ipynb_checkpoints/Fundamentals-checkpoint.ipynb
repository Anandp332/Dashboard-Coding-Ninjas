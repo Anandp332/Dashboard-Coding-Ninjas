{
 "cells": [
  {
   "cell_type": "markdown",
   "metadata": {},
   "source": [
    "# Average Marks"
   ]
  },
  {
   "cell_type": "raw",
   "metadata": {},
   "source": [
    "A\n",
    "3 4 6\n",
    "Sample Output 1 :\n",
    "A\n",
    "4\n",
    "\n",
    "Sample Input 2 :\n",
    "T\n",
    "7 3 8\n",
    "Sample Output 2 :\n",
    "T\n",
    "6"
   ]
  },
  {
   "cell_type": "code",
   "execution_count": 2,
   "metadata": {},
   "outputs": [
    {
     "name": "stdout",
     "output_type": "stream",
     "text": [
      "T\n",
      "7 3 8\n",
      "T\n",
      "6\n"
     ]
    }
   ],
   "source": [
    "name=input()\n",
    "n=input()\n",
    "n=n.split(\" \")\n",
    "j=0\n",
    "for i in n:\n",
    "    j+=int(i)\n",
    "print(name)\n",
    "print(j//len(n))"
   ]
  },
  {
   "cell_type": "markdown",
   "metadata": {},
   "source": [
    "# Find Character Case"
   ]
  },
  {
   "cell_type": "raw",
   "metadata": {},
   "source": [
    "Sample Input 1 :\n",
    "v\n",
    "Sample Output 1 :\n",
    "0\n",
    "\n",
    "Sample Input 2 :\n",
    "V\n",
    "Sample Output 2 :\n",
    "1\n",
    "Sample Input 3 :\n",
    "#\n",
    "Sample Output 3 :\n",
    "-1"
   ]
  },
  {
   "cell_type": "code",
   "execution_count": 3,
   "metadata": {},
   "outputs": [
    {
     "name": "stdout",
     "output_type": "stream",
     "text": [
      "#\n",
      "-1\n"
     ]
    }
   ],
   "source": [
    "n=input()\n",
    "if(ord(n)>=65 and ord(n)<=90):\n",
    "    print(\"1\")\n",
    "elif(ord(n)>=97 and ord(n)<=122):\n",
    "    print(\"0\")\n",
    "else:\n",
    "    print(\"-1\")"
   ]
  },
  {
   "cell_type": "markdown",
   "metadata": {},
   "source": [
    "# Sum of Even Numbers till N"
   ]
  },
  {
   "cell_type": "raw",
   "metadata": {},
   "source": [
    "Sample Input 1 :\n",
    " 6\n",
    "Sample Output 1 :\n",
    "12"
   ]
  },
  {
   "cell_type": "code",
   "execution_count": 4,
   "metadata": {},
   "outputs": [
    {
     "name": "stdout",
     "output_type": "stream",
     "text": [
      "6\n",
      "12\n"
     ]
    }
   ],
   "source": [
    "n=int(input())\n",
    "sm=0\n",
    "for i in range(1,n+1,1):\n",
    "    if(i%2==0):\n",
    "        sm+=i\n",
    "print(sm)"
   ]
  },
  {
   "cell_type": "markdown",
   "metadata": {},
   "source": [
    "# Fahrenheit to Celsius"
   ]
  },
  {
   "cell_type": "raw",
   "metadata": {},
   "source": [
    "Sample Input 1:\n",
    "0 \n",
    "100 \n",
    "20\n",
    "Sample Output 1:\n",
    "0   -17\n",
    "20  -6\n",
    "40  4\n",
    "60  15\n",
    "80  26\n",
    "100 37\n",
    "\n",
    "\n",
    "\n",
    "Sample Input 2:\n",
    "20\n",
    "119\n",
    "13\n",
    "Sample Output 2:\n",
    "20  -6\n",
    "33  0 \n",
    "46  7\n",
    "59  15\n",
    "72  22\n",
    "85  29\n",
    "98  36\n",
    "111 43"
   ]
  },
  {
   "cell_type": "code",
   "execution_count": 5,
   "metadata": {},
   "outputs": [
    {
     "name": "stdout",
     "output_type": "stream",
     "text": [
      "20\n",
      "119\n",
      "13\n",
      "20   -6\n",
      "33   0\n",
      "46   7\n",
      "59   15\n",
      "72   22\n",
      "85   29\n",
      "98   36\n",
      "111   43\n"
     ]
    }
   ],
   "source": [
    "import math as m\n",
    "start=int(input())\n",
    "last=int(input())\n",
    "interval=int(input())\n",
    "for i in range(start,last,interval):\n",
    "    print(i,\" \",int((i-32) * 5/9))"
   ]
  },
  {
   "cell_type": "markdown",
   "metadata": {},
   "source": [
    "# Number Pattern"
   ]
  },
  {
   "cell_type": "raw",
   "metadata": {},
   "source": [
    "Pattern for N = 4\n",
    "1\n",
    "23\n",
    "345\n",
    "4567\n",
    "\n",
    "Sample Input 1 :\n",
    "3\n",
    "Sample Output 1 :\n",
    "1\n",
    "23\n",
    "345"
   ]
  },
  {
   "cell_type": "code",
   "execution_count": 6,
   "metadata": {},
   "outputs": [
    {
     "name": "stdout",
     "output_type": "stream",
     "text": [
      "4\n",
      "1\n",
      "23\n",
      "345\n",
      "4567\n"
     ]
    }
   ],
   "source": [
    "n = int(input())\n",
    "for i in range(1,n+1,1):\n",
    "    k=i\n",
    "    for j in range(0,i,1):\n",
    "        print(k,end=\"\")\n",
    "        k+=1\n",
    "    print()"
   ]
  },
  {
   "cell_type": "markdown",
   "metadata": {},
   "source": [
    "# Number Pattern"
   ]
  },
  {
   "cell_type": "raw",
   "metadata": {},
   "source": [
    "Pattern for N = 4\n",
    "       1\n",
    "     23\n",
    "   345\n",
    " 4567\n",
    "    \n",
    "    \n",
    "Sample Input :\n",
    "5\n",
    "Sample Output :\n",
    "          1\n",
    "        23\n",
    "      345\n",
    "    4567\n",
    "  56789"
   ]
  },
  {
   "cell_type": "code",
   "execution_count": 7,
   "metadata": {},
   "outputs": [
    {
     "name": "stdout",
     "output_type": "stream",
     "text": [
      "4\n",
      "      1\n",
      "    23\n",
      "  345\n",
      "4567\n"
     ]
    }
   ],
   "source": [
    "n=int(input())\n",
    "space = (1+(n-1)*2)-1\n",
    "for i in range(1,n+1,1):\n",
    "    for j in range(0,space,1):\n",
    "        print(\" \",end=\"\")\n",
    "    space-=2\n",
    "    t=i\n",
    "    for k in range(0,i):\n",
    "        print(t,end=\"\")\n",
    "        t+=1\n",
    "    print()\n"
   ]
  },
  {
   "cell_type": "markdown",
   "metadata": {},
   "source": [
    "# Star Pattern"
   ]
  },
  {
   "cell_type": "raw",
   "metadata": {},
   "source": [
    "Sample Input 1 :\n",
    "3\n",
    "Sample Output 1 :\n",
    "   *\n",
    "  *** \n",
    " *****\n",
    " \n",
    " Sample Input 2 :\n",
    "4\n",
    "Sample Output 2 :\n",
    "    *\n",
    "   *** \n",
    "  *****\n",
    " *******"
   ]
  },
  {
   "cell_type": "code",
   "execution_count": 8,
   "metadata": {},
   "outputs": [
    {
     "name": "stdout",
     "output_type": "stream",
     "text": [
      "3\n",
      "  *\n",
      " ***\n",
      "*****\n"
     ]
    }
   ],
   "source": [
    "n=int(input())\n",
    "space =(n-1)\n",
    "for i in range(1,n+1,1):\n",
    "    for k in range(0,space,1):\n",
    "        print(\" \",end=\"\")\n",
    "    space-=1\n",
    "    p=1+(i-1)*2\n",
    "    for j in range(0,p,1):\n",
    "        print(\"*\",end=\"\")\n",
    "    print()"
   ]
  },
  {
   "cell_type": "code",
   "execution_count": null,
   "metadata": {},
   "outputs": [],
   "source": []
  }
 ],
 "metadata": {
  "kernelspec": {
   "display_name": "Python 3",
   "language": "python",
   "name": "python3"
  },
  "language_info": {
   "codemirror_mode": {
    "name": "ipython",
    "version": 3
   },
   "file_extension": ".py",
   "mimetype": "text/x-python",
   "name": "python",
   "nbconvert_exporter": "python",
   "pygments_lexer": "ipython3",
   "version": "3.8.3"
  }
 },
 "nbformat": 4,
 "nbformat_minor": 4
}
