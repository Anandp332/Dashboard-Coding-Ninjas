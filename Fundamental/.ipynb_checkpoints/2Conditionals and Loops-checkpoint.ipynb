{
 "cells": [
  {
   "cell_type": "markdown",
   "metadata": {},
   "source": [
    "# Total salary"
   ]
  },
  {
   "cell_type": "code",
   "execution_count": 1,
   "metadata": {},
   "outputs": [
    {
     "name": "stdout",
     "output_type": "stream",
     "text": [
      "100 A\n",
      "1859\n"
     ]
    }
   ],
   "source": [
    "bs=input()\n",
    "bs = bs.split(\" \")\n",
    "grade = bs[1]\n",
    "allow=0\n",
    "bs = int(bs[0])\n",
    "hra=bs*(20/100)\n",
    "da=bs*(50/100)\n",
    "if(grade==\"A\"):\n",
    "    allow=1700\n",
    "elif(grade==\"B\"):\n",
    "    allow=1500\n",
    "else:\n",
    "    allow=1300\n",
    "pf=bs*(11/100)\n",
    "totalsal=(bs+hra+da+allow)-pf\n",
    "print(int(totalsal))"
   ]
  },
  {
   "cell_type": "markdown",
   "metadata": {},
   "source": [
    "# Sum of odd and even"
   ]
  },
  {
   "cell_type": "code",
   "execution_count": 13,
   "metadata": {},
   "outputs": [
    {
     "name": "stdout",
     "output_type": "stream",
     "text": [
      "552245\n",
      "8   15\n"
     ]
    }
   ],
   "source": [
    "n=int(input())\n",
    "odd,even=0,0\n",
    "while(n//10!=0):\n",
    "    p=n%10\n",
    "    n=n//10\n",
    "    if(p%2==0):\n",
    "        even+=p\n",
    "    else:\n",
    "        odd+=p\n",
    "if(n%2==0):\n",
    "    even+=n\n",
    "else:\n",
    "    odd+=n\n",
    "print(even,\" \",odd)"
   ]
  },
  {
   "cell_type": "markdown",
   "metadata": {},
   "source": [
    "\n",
    "# Find power of a number"
   ]
  },
  {
   "cell_type": "code",
   "execution_count": 17,
   "metadata": {},
   "outputs": [
    {
     "name": "stdout",
     "output_type": "stream",
     "text": [
      "2 5\n",
      "32\n"
     ]
    }
   ],
   "source": [
    "n=input()\n",
    "n=n.split(\" \")\n",
    "ans=1\n",
    "for i in range(0,int(n[1]),1):\n",
    "    ans*=int(n[0])\n",
    "print(ans)"
   ]
  },
  {
   "cell_type": "markdown",
   "metadata": {},
   "source": [
    "# Number Pattern 1\n"
   ]
  },
  {
   "cell_type": "raw",
   "metadata": {},
   "source": [
    "Pattern for N = 4\n",
    "1\n",
    "11\n",
    "111\n",
    "1111"
   ]
  },
  {
   "cell_type": "code",
   "execution_count": 21,
   "metadata": {},
   "outputs": [
    {
     "name": "stdout",
     "output_type": "stream",
     "text": [
      "4\n",
      "1\n",
      "11\n",
      "111\n",
      "1111\n"
     ]
    }
   ],
   "source": [
    "n=int(input())\n",
    "for i in range(1,n+1,1):\n",
    "    for j in range(0,i,1):\n",
    "        print(\"1\",end=\"\")\n",
    "    print()"
   ]
  },
  {
   "cell_type": "markdown",
   "metadata": {},
   "source": [
    "# Number Pattern 2"
   ]
  },
  {
   "cell_type": "raw",
   "metadata": {},
   "source": [
    "Pattern for N = 4\n",
    "1\n",
    "11\n",
    "202\n",
    "3003\n",
    "\n",
    "Sample Input :\n",
    "5\n",
    "Sample Output :\n",
    "1\n",
    "11\n",
    "202\n",
    "3003\n",
    "40004"
   ]
  },
  {
   "cell_type": "code",
   "execution_count": 27,
   "metadata": {},
   "outputs": [
    {
     "name": "stdout",
     "output_type": "stream",
     "text": [
      "5\n",
      "1\n",
      "11\n",
      "202\n",
      "3003\n",
      "40004\n"
     ]
    }
   ],
   "source": [
    "n=int(input())\n",
    "for i in range(1,n+1,1):\n",
    "    for j in range(0,i,1):\n",
    "        if(i==1):\n",
    "            print(i,end=\"\")\n",
    "            continue\n",
    "        elif(j==0 or j==i-1):\n",
    "            print(i-1,end=\"\")\n",
    "        else:\n",
    "            print(\"0\",end=\"\")\n",
    "    print()\n",
    "            "
   ]
  },
  {
   "cell_type": "markdown",
   "metadata": {},
   "source": [
    "# Number Pattern 3"
   ]
  },
  {
   "cell_type": "raw",
   "metadata": {},
   "source": [
    "Pattern for N = 4\n",
    "1\n",
    "11\n",
    "121\n",
    "1221\n",
    "\n",
    "\n",
    "Sample Input :\n",
    "5\n",
    "Sample Output :\n",
    "1\n",
    "11\n",
    "121\n",
    "1221\n",
    "12221"
   ]
  },
  {
   "cell_type": "code",
   "execution_count": 29,
   "metadata": {},
   "outputs": [
    {
     "name": "stdout",
     "output_type": "stream",
     "text": [
      "5\n",
      "1\n",
      "11\n",
      "121\n",
      "1221\n",
      "12221\n"
     ]
    }
   ],
   "source": [
    "n=int(input())\n",
    "for i in range(1,n+1,1):\n",
    "    for j in range(0,i,1):\n",
    "        if(i==1):\n",
    "            print(\"1\",end=\"\")\n",
    "            continue\n",
    "        elif(j==0 or j==i-1):\n",
    "            print(\"1\",end=\"\")\n",
    "        else:\n",
    "            print(\"2\",end=\"\")\n",
    "    print()"
   ]
  },
  {
   "cell_type": "markdown",
   "metadata": {},
   "source": [
    "# Pattern for N = 4"
   ]
  },
  {
   "cell_type": "raw",
   "metadata": {},
   "source": [
    "Pattern for N = 4\n",
    "1234\n",
    "123\n",
    "12\n",
    "1\n",
    "\n",
    "Sample Input :\n",
    "5\n",
    "Sample Output :\n",
    "12345\n",
    "1234\n",
    "123\n",
    "12\n",
    "1"
   ]
  },
  {
   "cell_type": "code",
   "execution_count": 1,
   "metadata": {},
   "outputs": [
    {
     "name": "stdout",
     "output_type": "stream",
     "text": [
      "4\n",
      "1234\n",
      "123\n",
      "12\n",
      "1\n"
     ]
    }
   ],
   "source": [
    "n=int(input())\n",
    "for i in range(n,0,-1):\n",
    "    for j in range(1,i+1,1):\n",
    "        print(j,end=\"\")\n",
    "    print()"
   ]
  },
  {
   "cell_type": "code",
   "execution_count": null,
   "metadata": {},
   "outputs": [],
   "source": []
  }
 ],
 "metadata": {
  "kernelspec": {
   "display_name": "Python 3",
   "language": "python",
   "name": "python3"
  },
  "language_info": {
   "codemirror_mode": {
    "name": "ipython",
    "version": 3
   },
   "file_extension": ".py",
   "mimetype": "text/x-python",
   "name": "python",
   "nbconvert_exporter": "python",
   "pygments_lexer": "ipython3",
   "version": "3.8.3"
  }
 },
 "nbformat": 4,
 "nbformat_minor": 4
}
