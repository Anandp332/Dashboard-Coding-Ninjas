{
 "cells": [
  {
   "cell_type": "markdown",
   "metadata": {},
   "source": [
    "# Two substrings"
   ]
  },
  {
   "cell_type": "raw",
   "metadata": {},
   "source": [
    "Sample Input 1 :\n",
    "ABA\n",
    "Sample Output 1 :\n",
    "no\n",
    "Sample Input 2 :\n",
    "BACFAB\n",
    "Sample Output 2 :\n",
    "yes\n",
    "Sample Input 3 :\n",
    "AXBYBXA\n",
    "Sample Output 3 :\n",
    "no"
   ]
  },
  {
   "cell_type": "code",
   "execution_count": 13,
   "metadata": {},
   "outputs": [
    {
     "name": "stdout",
     "output_type": "stream",
     "text": [
      "ABABA\n",
      "exe1 1 1\n",
      "1\n",
      "exe2 3 1\n",
      "yes\n"
     ]
    }
   ],
   "source": [
    "def substr(n):\n",
    "    p1,p2=0,0\n",
    "    p=0\n",
    "    q=0\n",
    "    for i in range(0,len(n),1):\n",
    "        if(n[i-1:i+1] == \"AB\" and p==0):\n",
    "           # print(\"exe1\",i,\"1\")\n",
    "            p+=1\n",
    "            #print(p)\n",
    "            p1=1\n",
    "            i+=1\n",
    "        if(n[i:i+2]==\"BA\" and q==0 ):\n",
    "            #print(\"exe2\",i,\"1\")\n",
    "            q+=1\n",
    "            p2=1\n",
    "            i+=1\n",
    "    if(p1==1 and p2==1):\n",
    "        return 1\n",
    "    else:\n",
    "        return 0\n",
    "            \n",
    "            \n",
    "n=input()\n",
    "if(substr(n)):\n",
    "    print(\"yes\")\n",
    "else:\n",
    "    print(\"no\")"
   ]
  },
  {
   "cell_type": "code",
   "execution_count": 3,
   "metadata": {},
   "outputs": [
    {
     "data": {
      "text/plain": [
       "'ab'"
      ]
     },
     "execution_count": 3,
     "metadata": {},
     "output_type": "execute_result"
    }
   ],
   "source": [
    "i=\"abc\"\n",
    "i[0:2]"
   ]
  },
  {
   "cell_type": "code",
   "execution_count": null,
   "metadata": {},
   "outputs": [],
   "source": []
  }
 ],
 "metadata": {
  "kernelspec": {
   "display_name": "Python 3",
   "language": "python",
   "name": "python3"
  },
  "language_info": {
   "codemirror_mode": {
    "name": "ipython",
    "version": 3
   },
   "file_extension": ".py",
   "mimetype": "text/x-python",
   "name": "python",
   "nbconvert_exporter": "python",
   "pygments_lexer": "ipython3",
   "version": "3.8.3"
  }
 },
 "nbformat": 4,
 "nbformat_minor": 4
}
