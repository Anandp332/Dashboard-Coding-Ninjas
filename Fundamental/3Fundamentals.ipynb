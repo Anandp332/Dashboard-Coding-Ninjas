{
 "cells": [
  {
   "cell_type": "markdown",
   "metadata": {},
   "source": [
    "# Average Marks"
   ]
  },
  {
   "cell_type": "raw",
   "metadata": {},
   "source": [
    "A\n",
    "3 4 6\n",
    "Sample Output 1 :\n",
    "A\n",
    "4\n",
    "\n",
    "Sample Input 2 :\n",
    "T\n",
    "7 3 8\n",
    "Sample Output 2 :\n",
    "T\n",
    "6"
   ]
  },
  {
   "cell_type": "code",
   "execution_count": 2,
   "metadata": {},
   "outputs": [
    {
     "name": "stdout",
     "output_type": "stream",
     "text": [
      "T\n",
      "7 3 8\n",
      "T\n",
      "6\n"
     ]
    }
   ],
   "source": [
    "name=input()\n",
    "n=input()\n",
    "n=n.split(\" \")\n",
    "j=0\n",
    "for i in n:\n",
    "    j+=int(i)\n",
    "print(name)\n",
    "print(j//len(n))"
   ]
  },
  {
   "cell_type": "markdown",
   "metadata": {},
   "source": [
    "# Find Character Case"
   ]
  },
  {
   "cell_type": "raw",
   "metadata": {},
   "source": [
    "Sample Input 1 :\n",
    "v\n",
    "Sample Output 1 :\n",
    "0\n",
    "\n",
    "Sample Input 2 :\n",
    "V\n",
    "Sample Output 2 :\n",
    "1\n",
    "Sample Input 3 :\n",
    "#\n",
    "Sample Output 3 :\n",
    "-1"
   ]
  },
  {
   "cell_type": "code",
   "execution_count": 3,
   "metadata": {},
   "outputs": [
    {
     "name": "stdout",
     "output_type": "stream",
     "text": [
      "#\n",
      "-1\n"
     ]
    }
   ],
   "source": [
    "n=input()\n",
    "if(ord(n)>=65 and ord(n)<=90):\n",
    "    print(\"1\")\n",
    "elif(ord(n)>=97 and ord(n)<=122):\n",
    "    print(\"0\")\n",
    "else:\n",
    "    print(\"-1\")"
   ]
  },
  {
   "cell_type": "markdown",
   "metadata": {},
   "source": [
    "# Sum of Even Numbers till N"
   ]
  },
  {
   "cell_type": "raw",
   "metadata": {},
   "source": [
    "Sample Input 1 :\n",
    " 6\n",
    "Sample Output 1 :\n",
    "12"
   ]
  },
  {
   "cell_type": "code",
   "execution_count": 4,
   "metadata": {},
   "outputs": [
    {
     "name": "stdout",
     "output_type": "stream",
     "text": [
      "6\n",
      "12\n"
     ]
    }
   ],
   "source": [
    "n=int(input())\n",
    "sm=0\n",
    "for i in range(1,n+1,1):\n",
    "    if(i%2==0):\n",
    "        sm+=i\n",
    "print(sm)"
   ]
  },
  {
   "cell_type": "markdown",
   "metadata": {},
   "source": [
    "# Fahrenheit to Celsius"
   ]
  },
  {
   "cell_type": "raw",
   "metadata": {},
   "source": [
    "Sample Input 1:\n",
    "0 \n",
    "100 \n",
    "20\n",
    "Sample Output 1:\n",
    "0   -17\n",
    "20  -6\n",
    "40  4\n",
    "60  15\n",
    "80  26\n",
    "100 37\n",
    "\n",
    "\n",
    "\n",
    "Sample Input 2:\n",
    "20\n",
    "119\n",
    "13\n",
    "Sample Output 2:\n",
    "20  -6\n",
    "33  0 \n",
    "46  7\n",
    "59  15\n",
    "72  22\n",
    "85  29\n",
    "98  36\n",
    "111 43"
   ]
  },
  {
   "cell_type": "code",
   "execution_count": 5,
   "metadata": {},
   "outputs": [
    {
     "name": "stdout",
     "output_type": "stream",
     "text": [
      "20\n",
      "119\n",
      "13\n",
      "20   -6\n",
      "33   0\n",
      "46   7\n",
      "59   15\n",
      "72   22\n",
      "85   29\n",
      "98   36\n",
      "111   43\n"
     ]
    }
   ],
   "source": [
    "import math as m\n",
    "start=int(input())\n",
    "last=int(input())\n",
    "interval=int(input())\n",
    "for i in range(start,last,interval):\n",
    "    print(i,\" \",int((i-32) * 5/9))"
   ]
  },
  {
   "cell_type": "markdown",
   "metadata": {},
   "source": [
    "# Number Pattern"
   ]
  },
  {
   "cell_type": "raw",
   "metadata": {},
   "source": [
    "Pattern for N = 4\n",
    "1\n",
    "23\n",
    "345\n",
    "4567\n",
    "\n",
    "Sample Input 1 :\n",
    "3\n",
    "Sample Output 1 :\n",
    "1\n",
    "23\n",
    "345"
   ]
  },
  {
   "cell_type": "code",
   "execution_count": 6,
   "metadata": {},
   "outputs": [
    {
     "name": "stdout",
     "output_type": "stream",
     "text": [
      "4\n",
      "1\n",
      "23\n",
      "345\n",
      "4567\n"
     ]
    }
   ],
   "source": [
    "n = int(input())\n",
    "for i in range(1,n+1,1):\n",
    "    k=i\n",
    "    for j in range(0,i,1):\n",
    "        print(k,end=\"\")\n",
    "        k+=1\n",
    "    print()"
   ]
  },
  {
   "cell_type": "markdown",
   "metadata": {},
   "source": [
    "# Number Pattern"
   ]
  },
  {
   "cell_type": "raw",
   "metadata": {},
   "source": [
    "Pattern for N = 4\n",
    "       1\n",
    "     23\n",
    "   345\n",
    " 4567\n",
    "    \n",
    "    \n",
    "Sample Input :\n",
    "5\n",
    "Sample Output :\n",
    "          1\n",
    "        23\n",
    "      345\n",
    "    4567\n",
    "  56789"
   ]
  },
  {
   "cell_type": "code",
   "execution_count": 7,
   "metadata": {},
   "outputs": [
    {
     "name": "stdout",
     "output_type": "stream",
     "text": [
      "4\n",
      "      1\n",
      "    23\n",
      "  345\n",
      "4567\n"
     ]
    }
   ],
   "source": [
    "n=int(input())\n",
    "space = (1+(n-1)*2)-1\n",
    "for i in range(1,n+1,1):\n",
    "    for j in range(0,space,1):\n",
    "        print(\" \",end=\"\")\n",
    "    space-=2\n",
    "    t=i\n",
    "    for k in range(0,i):\n",
    "        print(t,end=\"\")\n",
    "        t+=1\n",
    "    print()\n"
   ]
  },
  {
   "cell_type": "markdown",
   "metadata": {},
   "source": [
    "# Star Pattern"
   ]
  },
  {
   "cell_type": "raw",
   "metadata": {},
   "source": [
    "Sample Input 1 :\n",
    "3\n",
    "Sample Output 1 :\n",
    "   *\n",
    "  *** \n",
    " *****\n",
    " \n",
    " Sample Input 2 :\n",
    "4\n",
    "Sample Output 2 :\n",
    "    *\n",
    "   *** \n",
    "  *****\n",
    " *******"
   ]
  },
  {
   "cell_type": "code",
   "execution_count": 8,
   "metadata": {},
   "outputs": [
    {
     "name": "stdout",
     "output_type": "stream",
     "text": [
      "3\n",
      "  *\n",
      " ***\n",
      "*****\n"
     ]
    }
   ],
   "source": [
    "n=int(input())\n",
    "space =(n-1)\n",
    "for i in range(1,n+1,1):\n",
    "    for k in range(0,space,1):\n",
    "        print(\" \",end=\"\")\n",
    "    space-=1\n",
    "    p=1+(i-1)*2\n",
    "    for j in range(0,p,1):\n",
    "        print(\"*\",end=\"\")\n",
    "    print()"
   ]
  },
  {
   "cell_type": "markdown",
   "metadata": {},
   "source": [
    "# Nth Fibonacci number"
   ]
  },
  {
   "cell_type": "raw",
   "metadata": {},
   "source": [
    "Sample Input 1:\n",
    "4\n",
    "Sample Output 2:\n",
    "3 \n",
    "Sample Input 1:\n",
    "6\n",
    "Sample Output 2:\n",
    "8"
   ]
  },
  {
   "cell_type": "code",
   "execution_count": 3,
   "metadata": {},
   "outputs": [
    {
     "name": "stdout",
     "output_type": "stream",
     "text": [
      "6\n",
      "8\n"
     ]
    }
   ],
   "source": [
    "n=int(input())\n",
    "f1=1\n",
    "f2=1\n",
    "if(n==1 or n==2):\n",
    "    print(\"1\")\n",
    "num=1\n",
    "for i in range(2,n,1):\n",
    "    temp=num\n",
    "    num = f1+f2\n",
    "    f1=f2\n",
    "    f2=num\n",
    "print(num)"
   ]
  },
  {
   "cell_type": "markdown",
   "metadata": {},
   "source": [
    "# All prime numbers "
   ]
  },
  {
   "cell_type": "raw",
   "metadata": {},
   "source": [
    "Sample Input 1:\n",
    "9\n",
    "Sample Output 1:\n",
    "2\n",
    "3\n",
    "5\n",
    "7\n",
    "Sample Input 2:\n",
    "20\n",
    "Sample Output 2:\n",
    "2\n",
    "3\n",
    "5\n",
    "7\n",
    "11\n",
    "13\n",
    "17\n",
    "19"
   ]
  },
  {
   "cell_type": "code",
   "execution_count": 12,
   "metadata": {},
   "outputs": [
    {
     "name": "stdout",
     "output_type": "stream",
     "text": [
      "9\n",
      "2\n",
      "3\n",
      "5\n",
      "7\n"
     ]
    }
   ],
   "source": [
    "t=int(input())\n",
    "if(t==1):\n",
    "    print()\n",
    "for n in range(2,t+1,1):\n",
    "    if(n<=2):\n",
    "        print(n)\n",
    "    else:\n",
    "        p=0\n",
    "        for i in range(2,n,1):\n",
    "            if(n%i==0):\n",
    "                p+=1\n",
    "                break\n",
    "        if(p==0):\n",
    "            print(n)"
   ]
  },
  {
   "cell_type": "markdown",
   "metadata": {},
   "source": [
    "# Fahrenheit to Celsius Function"
   ]
  },
  {
   "cell_type": "raw",
   "metadata": {},
   "source": [
    "Sample Input 1:\n",
    "0 \n",
    "100 \n",
    "20\n",
    "Sample Output 1:\n",
    "0   -17\n",
    "20  -6\n",
    "40  4\n",
    "60  15\n",
    "80  26\n",
    "100 37\n",
    "Sample Input 2:\n",
    "120 \n",
    "200 \n",
    "40\n",
    "Sample Output 2:\n",
    "120 48\n",
    "160 71\n",
    "200 93"
   ]
  },
  {
   "cell_type": "code",
   "execution_count": 24,
   "metadata": {},
   "outputs": [
    {
     "name": "stdout",
     "output_type": "stream",
     "text": [
      "120\n",
      "200\n",
      "40\n",
      "120   48\n",
      "160   71\n",
      "200   93\n"
     ]
    }
   ],
   "source": [
    " def printTable(start,end,step):\n",
    "    for i in range(start,end+1,step):\n",
    "        print(i,\" \",int((i-32) * 5/9))\n",
    "s = int(input())\n",
    "e = int(input())\n",
    "step = int(input())\n",
    "printTable(s,e,step)"
   ]
  },
  {
   "cell_type": "markdown",
   "metadata": {},
   "source": [
    "# Fibonacci Member"
   ]
  },
  {
   "cell_type": "raw",
   "metadata": {},
   "source": [
    "Sample Input 1 :\n",
    "5\n",
    "Sample Output 1 :\n",
    "true\n",
    "Sample Input 2 :\n",
    "14\n",
    "Sample Output 2 :\n",
    "false    \n"
   ]
  },
  {
   "cell_type": "code",
   "execution_count": 16,
   "metadata": {},
   "outputs": [
    {
     "name": "stdout",
     "output_type": "stream",
     "text": [
      "13\n",
      "true\n"
     ]
    }
   ],
   "source": [
    "\n",
    "def checkMember(n):\n",
    "    if(n==0 or n==1):\n",
    "        return 1\n",
    "    p0,p1=0,1\n",
    "    pp=1\n",
    "    for i in range(0,n+1,1):\n",
    "        p0=p1\n",
    "        p1=pp\n",
    "        pp=p1+p0\n",
    "        \n",
    "        if(pp==n):\n",
    "            return 1\n",
    "            break\n",
    "    return 0\n",
    "                \n",
    "\n",
    "n=int(input())\n",
    "if(checkMember(n)):\n",
    "    print(\"true\")\n",
    "else:\n",
    "    print(\"false\")"
   ]
  },
  {
   "cell_type": "code",
   "execution_count": null,
   "metadata": {},
   "outputs": [],
   "source": []
  }
 ],
 "metadata": {
  "kernelspec": {
   "display_name": "Python 3",
   "language": "python",
   "name": "python3"
  },
  "language_info": {
   "codemirror_mode": {
    "name": "ipython",
    "version": 3
   },
   "file_extension": ".py",
   "mimetype": "text/x-python",
   "name": "python",
   "nbconvert_exporter": "python",
   "pygments_lexer": "ipython3",
   "version": "3.8.3"
  }
 },
 "nbformat": 4,
 "nbformat_minor": 4
}
