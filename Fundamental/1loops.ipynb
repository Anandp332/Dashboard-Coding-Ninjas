{
 "cells": [
  {
   "cell_type": "markdown",
   "metadata": {},
   "source": [
    "# 1.Multiple of 3N+2 not multiple of 4"
   ]
  },
  {
   "cell_type": "code",
   "execution_count": 2,
   "metadata": {},
   "outputs": [
    {
     "name": "stdout",
     "output_type": "stream",
     "text": [
      "4\n",
      "5 11 14 17 "
     ]
    }
   ],
   "source": [
    "n=int(input())\n",
    "i=1\n",
    "while(n!=0):\n",
    "    if(((3*i)+2)%4==0):\n",
    "        i+=1\n",
    "        continue\n",
    "    else:\n",
    "        print((3*i)+2,end=\" \")\n",
    "    i+=1\n",
    "    n=n-1\n"
   ]
  },
  {
   "cell_type": "markdown",
   "metadata": {},
   "source": [
    "# 2.Reverse the number"
   ]
  },
  {
   "cell_type": "code",
   "execution_count": 15,
   "metadata": {},
   "outputs": [
    {
     "name": "stdout",
     "output_type": "stream",
     "text": [
      "103\n",
      "301"
     ]
    }
   ],
   "source": [
    "def reverse(n):\n",
    "    p=str(n)\n",
    "    q=[]\n",
    "    for i in range(len(p)-1,-1,-1):\n",
    "        q.append(p[i])\n",
    "    return q\n",
    "    \n",
    "#Implement Your Code Here\n",
    "\t\t\n",
    "\n",
    "n=int(input())\n",
    "result = reverse(n)\n",
    "cnt=1\n",
    "for i in result:\n",
    "    if(cnt==1 and i==\"0\"):\n",
    "        continue\n",
    "    else:\n",
    "        print(i,end=\"\")\n",
    "        cnt+=1"
   ]
  },
  {
   "cell_type": "code",
   "execution_count": 9,
   "metadata": {},
   "outputs": [
    {
     "name": "stdout",
     "output_type": "stream",
     "text": [
      "['i']\n"
     ]
    }
   ],
   "source": [
    "q=[]\n",
    "q.append(\"i\")\n",
    "print(q)"
   ]
  },
  {
   "cell_type": "markdown",
   "metadata": {},
   "source": [
    "# 3.Binary To Decimal"
   ]
  },
  {
   "cell_type": "code",
   "execution_count": 3,
   "metadata": {},
   "outputs": [
    {
     "name": "stdout",
     "output_type": "stream",
     "text": [
      "1100\n",
      "12\n"
     ]
    }
   ],
   "source": [
    "n=int(input())\n",
    "num,i=0,0\n",
    "while((n*10)//10!=0):\n",
    "    p=n%10\n",
    "    n=n//10\n",
    "    num+=p*(2**i)\n",
    "    i+=1\n",
    "print(num)"
   ]
  },
  {
   "cell_type": "code",
   "execution_count": 14,
   "metadata": {},
   "outputs": [
    {
     "name": "stdout",
     "output_type": "stream",
     "text": [
      "6\n"
     ]
    }
   ],
   "source": [
    "print(6//2)"
   ]
  },
  {
   "cell_type": "markdown",
   "metadata": {},
   "source": [
    "# 4.Decimal To Binary"
   ]
  },
  {
   "cell_type": "code",
   "execution_count": 20,
   "metadata": {},
   "outputs": [
    {
     "name": "stdout",
     "output_type": "stream",
     "text": [
      "12\n",
      "Iteration 0\n",
      "0\n",
      "6\n",
      "0\n",
      "Iteration 1\n",
      "0\n",
      "3\n",
      "0\n",
      "Iteration 2\n",
      "1\n",
      "1\n",
      "100\n",
      "Iteration 3\n",
      "1\n",
      "0\n",
      "1100\n",
      "1100\n"
     ]
    }
   ],
   "source": [
    "n=int(input())\n",
    "num=0\n",
    "j=0\n",
    "while(n!=0):\n",
    "    p=n%2\n",
    "    n=n//2\n",
    "    num=(p*(10**j))+num\n",
    "    j+=1\n",
    "    \n",
    "print(num)"
   ]
  },
  {
   "cell_type": "code",
   "execution_count": 23,
   "metadata": {},
   "outputs": [
    {
     "name": "stdout",
     "output_type": "stream",
     "text": [
      "10\n"
     ]
    }
   ],
   "source": [
    "print(int(10.3//1))"
   ]
  },
  {
   "cell_type": "markdown",
   "metadata": {},
   "source": [
    "# 5.Squire root"
   ]
  },
  {
   "cell_type": "code",
   "execution_count": 28,
   "metadata": {},
   "outputs": [
    {
     "name": "stdout",
     "output_type": "stream",
     "text": [
      "5\n",
      "2\n"
     ]
    }
   ],
   "source": [
    "n=int(input())\n",
    "i=1\n",
    "if(i*i==n):\n",
    "    print(i)\n",
    "else:\n",
    "    while(i*i<=n):\n",
    "        i+=1\n",
    "print(i-1)"
   ]
  },
  {
   "cell_type": "code",
   "execution_count": null,
   "metadata": {},
   "outputs": [],
   "source": []
  }
 ],
 "metadata": {
  "kernelspec": {
   "display_name": "Python 3",
   "language": "python",
   "name": "python3"
  },
  "language_info": {
   "codemirror_mode": {
    "name": "ipython",
    "version": 3
   },
   "file_extension": ".py",
   "mimetype": "text/x-python",
   "name": "python",
   "nbconvert_exporter": "python",
   "pygments_lexer": "ipython3",
   "version": "3.8.3"
  }
 },
 "nbformat": 4,
 "nbformat_minor": 4
}
